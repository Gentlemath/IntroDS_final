{
 "cells": [
  {
   "cell_type": "code",
   "execution_count": null,
   "metadata": {
    "id": "7dZbT3ijl0Qh"
   },
   "outputs": [],
   "source": [
    "# change this to add/remove libraries needed\n",
    "import numpy as np\n",
    "import pandas as pd\n",
    "\n",
    "%matplotlib inline\n",
    "import matplotlib.pyplot as plt\n",
    "plt.style.use('fivethirtyeight')\n",
    "import warnings\n",
    "warnings.simplefilter('ignore', FutureWarning)"
   ]
  },
  {
   "cell_type": "markdown",
   "metadata": {
    "id": "RdiytFTml0Ql"
   },
   "source": [
    "## Midterm Project for DATA 30100- Autumn 2024 (due December 10)\n",
    "\n",
    "This is not a group project. You may discuss the project with other students but you should code and write the report independently. You should acknowledge any help in writing. The score will be based on:\n",
    "-  Clarity and soundness of the arguments and conclusions; \n",
    "-  Use of data to back up arguments and analysis quality;  \n",
    "-  Insightfulness of the results;\n",
    "-  Quality of the EDA, statistical analyses, and overall presentation. Make sure you use headings, captions for figures and tables etc. When you interpret a graph or data from a table, you should clearly specify which figure/table you refer to.\n",
    "\n",
    "For this project, you are tasked to use the [National Crime Victimization Survey (NCVS)](https://www.icpsr.umich.edu/web/NACJD/studies/38090/summary). The NCVS gathers data about personal and household crimes since 1973. The primary goals of the survey are to collect information about the victims, to explore the consequences of crime, and to estimate the number and types of crimes that go unreported.\n",
    "\n",
    "Information about the study and data can be found in the attached pdf.\n",
    "\n",
    "The goal of this project is to gain insight into crime victimization using the tools you have learned so far in this class.\n",
    "\n",
    "### The Data \n",
    "\n",
    "You can (but are not required to) use any additional data you can find to get insight into this issue, but you need to specify the provenance of that data in your report. Some potential options include:\n",
    "\n",
    "- NCVS Series and Supplements, https://www.icpsr.umich.edu/web/NACJD/series/95\n",
    "- Annual Survey of Jails 2020, https://www.icpsr.umich.edu/web/NACJD/studies/38408\n",
    "- National Prisoner Statistics, https://www.icpsr.umich.edu/web/NACJD/studies/38249\n",
    "- American Community Survey, https://www.census.gov/programs-surveys/acs/\n",
    "\n",
    "There is a plethoral of data collected in the NCVS, and we have cleaned and selected a portion of the data for your use in this project. That data is provided on Canvas (the `NCVS_2020.csv` file). Also provided on Canvas is a codebook (an Excel file containing information about each variable) created by your instructor as well as a codebook from the study itself giving additional information about the data and data collection methods that will be useful to answer some of the questions below. The preprocessed data provided has 8044 rows (first row is the name of the columns, and there are 8043 rows of data) and 81 columns. "
   ]
  },
  {
   "cell_type": "code",
   "execution_count": null,
   "metadata": {},
   "outputs": [],
   "source": [
    "# read the data - make sure you specify the proper path to the file\n",
    "proj_df=pd.read_csv('NCVS_2020.csv')\n",
    "proj_df.shape"
   ]
  },
  {
   "cell_type": "code",
   "execution_count": null,
   "metadata": {},
   "outputs": [],
   "source": [
    "# a sample of 10 rows\n",
    "proj_df.sample(10)"
   ]
  },
  {
   "cell_type": "markdown",
   "metadata": {
    "id": "Tl4X-SRBl0Qn"
   },
   "source": [
    "### The Assignment\n",
    "\n",
    "#### Report on your findings about victimization. \n",
    "Imagine you are serving as a consultant who wants to recommend directions for future research, propose modifications in public policy, or suggest how one can reduce victimization and its consequences.\n",
    "\n",
    "**You must submit two files:** \n",
    "\n",
    "1. The Jupyter Notebook that contains all the code you use for the analysis. You do not need to submit data you used, but just indicate how you obtained it in the Notebook.\n",
    "\n",
    "2. A report of your findings **(in a .pdf file). This report should be at most 4 pages long including references.** Use data visualization, data summaries, and statistical analysis to justify your conclusions. Note that the page limitation means you will not show all analyses and plots you will make - select carefully what you think is most relevant.\n",
    "\n",
    "The report should address the following points:\n",
    "\n",
    "A.  **Introduce the dataset**.  Describe the data. Where does it come from? Why was it collected (what are the researchers interested in studying)? Was it an experiment or an observational study? Describe the sampling process. How many variables are there? List a few. How many observations (i.e., rows)? How many distinct households? Using what you have learned about data collection, is this a biased or unbiased sample? Why?\n",
    "\n",
    "B.  **Characteristics of sample**. Describe the sample of people and households in the dataset.  Summarize the distributions of 3 or more of the characteristics (variables) of the people and households.  Some interesting variables you may consider include: marital status, employment, age, income etc. Choose at least 1 categorical and 1 numerical variable. You could include a graph or table for each distribution. \n",
    "\n",
    "C. **Relationships between variables.**  Now, shift focus from distributions of single variables to relationships between variables. You should investigate at least 2 of the individual or household characteristics (race, sex, education...) and at least two of the crime related variables.  For example, do you find evidence that those with levels of education are victims of less crime?  Describe any associations you find and the methods you use to investigate their significance. \n",
    "\n",
    "D. **Provide context**  To the best of your knowledge, what do the relationships you discovered imply? Do you think the associations are causal? What are some potential confounders that may explain the relationships?  What are some questions that you would like to answer but are unable to with the current data set alone?  What data would you need to be able to answer them?\n",
    "\n",
    "E. **Conclusion/Self-Assessment** What did you learn from analyzing this dataset?"
   ]
  },
  {
   "cell_type": "markdown",
   "metadata": {
    "id": "Qs8jgh62l0Qo"
   },
   "source": [
    "Your submission is to be uploaded to Canvas.  \n",
    "There are some minimum requirements for your submission:\n",
    "\n",
    "1. Upload your report in PDF format to Canvas. \n",
    "2. Upload the Jupyter notebook containing your analysis code to Canvas.\n",
    "3. The report should be 4 pages maximum, including bibliography, tables and figures.\n",
    "4. If your report uses outside results and/or data, proper citations must be provided.\n",
    "    \n"
   ]
  }
 ],
 "metadata": {
  "colab": {
   "provenance": []
  },
  "kernelspec": {
   "display_name": "Python 3",
   "language": "python",
   "name": "python3"
  },
  "language_info": {
   "codemirror_mode": {
    "name": "ipython",
    "version": 3
   },
   "file_extension": ".py",
   "mimetype": "text/x-python",
   "name": "python",
   "nbconvert_exporter": "python",
   "pygments_lexer": "ipython3",
   "version": "3.8.8"
  }
 },
 "nbformat": 4,
 "nbformat_minor": 1
}
